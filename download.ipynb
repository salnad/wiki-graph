{
 "cells": [
  {
   "cell_type": "code",
   "execution_count": 29,
   "metadata": {},
   "outputs": [],
   "source": [
    "import requests\n",
    "from bs4 import BeautifulSoup\n",
    "import os\n",
    "import sys\n",
    "from keras.utils import get_file"
   ]
  },
  {
   "cell_type": "code",
   "execution_count": 75,
   "metadata": {},
   "outputs": [],
   "source": [
    "dump_url = 'https://dumps.wikimedia.org/enwiki/latest'\n",
    "dump_html = requests.get(dump_url).text\n",
    "soup_dump = BeautifulSoup(dump_html, 'html.parser')\n",
    "links_to_process = [x['href'] for x in soup_dump.find_all('a',href=True)]\n",
    "links_to_download = []\n",
    "for x in links_to_process:\n",
    "    if 'pages-articles' in x and 'multistream' not in x and x[-4:] == '.bz2':\n",
    "        links_to_download += [x]\n",
    "links_to_download.remove('enwiki-latest-pages-articles.xml.bz2')"
   ]
  },
  {
   "cell_type": "code",
   "execution_count": 77,
   "metadata": {},
   "outputs": [
    {
     "name": "stdout",
     "output_type": "stream",
     "text": [
      "Downloading enwiki-latest-pages-articles1.xml-p1p30303.bz2...\n",
      "Downloaded enwiki-latest-pages-articles1.xml-p1p30303.bz2...\n",
      "Downloading enwiki-latest-pages-articles10.xml-p2336423p3046512.bz2...\n",
      "Downloaded enwiki-latest-pages-articles10.xml-p2336423p3046512.bz2...\n",
      "Downloading enwiki-latest-pages-articles11.xml-p3046513p3926861.bz2...\n",
      "Downloaded enwiki-latest-pages-articles11.xml-p3046513p3926861.bz2...\n",
      "Downloading enwiki-latest-pages-articles12.xml-p3926862p5040436.bz2...\n",
      "Downloaded enwiki-latest-pages-articles12.xml-p3926862p5040436.bz2...\n",
      "Downloading enwiki-latest-pages-articles13.xml-p5040437p6197594.bz2...\n",
      "Downloaded enwiki-latest-pages-articles13.xml-p5040437p6197594.bz2...\n",
      "Downloading enwiki-latest-pages-articles14.xml-p6197595p7697594.bz2...\n",
      "Downloaded enwiki-latest-pages-articles14.xml-p6197595p7697594.bz2...\n",
      "Downloading enwiki-latest-pages-articles14.xml-p7697595p7744800.bz2...\n",
      "Downloaded enwiki-latest-pages-articles14.xml-p7697595p7744800.bz2...\n",
      "Downloading enwiki-latest-pages-articles15.xml-p7744801p9244800.bz2...\n",
      "Downloaded enwiki-latest-pages-articles15.xml-p7744801p9244800.bz2...\n",
      "Downloading enwiki-latest-pages-articles15.xml-p9244801p9518048.bz2...\n",
      "Downloaded enwiki-latest-pages-articles15.xml-p9244801p9518048.bz2...\n",
      "Downloading enwiki-latest-pages-articles16.xml-p11018049p11539266.bz2...\n",
      "Downloaded enwiki-latest-pages-articles16.xml-p11018049p11539266.bz2...\n",
      "Downloading enwiki-latest-pages-articles16.xml-p9518049p11018048.bz2...\n",
      "Downloaded enwiki-latest-pages-articles16.xml-p9518049p11018048.bz2...\n",
      "Downloading enwiki-latest-pages-articles17.xml-p11539267p13039266.bz2...\n",
      "Downloaded enwiki-latest-pages-articles17.xml-p11539267p13039266.bz2...\n",
      "Downloading enwiki-latest-pages-articles17.xml-p13039267p13693073.bz2...\n",
      "Downloaded enwiki-latest-pages-articles17.xml-p13039267p13693073.bz2...\n",
      "Downloading enwiki-latest-pages-articles18.xml-p13693074p15193073.bz2...\n",
      "Downloaded enwiki-latest-pages-articles18.xml-p13693074p15193073.bz2...\n",
      "Downloading enwiki-latest-pages-articles18.xml-p15193074p16120542.bz2...\n",
      "Downloaded enwiki-latest-pages-articles18.xml-p15193074p16120542.bz2...\n",
      "Downloading enwiki-latest-pages-articles19.xml-p16120543p17620542.bz2...\n",
      "Downloaded enwiki-latest-pages-articles19.xml-p16120543p17620542.bz2...\n",
      "Downloading enwiki-latest-pages-articles19.xml-p17620543p18754735.bz2...\n",
      "Downloaded enwiki-latest-pages-articles19.xml-p17620543p18754735.bz2...\n",
      "Downloading enwiki-latest-pages-articles2.xml-p30304p88444.bz2...\n",
      "Downloaded enwiki-latest-pages-articles2.xml-p30304p88444.bz2...\n",
      "Downloading enwiki-latest-pages-articles20.xml-p18754736p20254735.bz2...\n",
      "Downloaded enwiki-latest-pages-articles20.xml-p18754736p20254735.bz2...\n",
      "Downloading enwiki-latest-pages-articles20.xml-p20254736p21222156.bz2...\n",
      "Downloaded enwiki-latest-pages-articles20.xml-p20254736p21222156.bz2...\n",
      "Downloading enwiki-latest-pages-articles21.xml-p21222157p22722156.bz2...\n",
      "Downloaded enwiki-latest-pages-articles21.xml-p21222157p22722156.bz2...\n",
      "Downloading enwiki-latest-pages-articles21.xml-p22722157p23927983.bz2...\n",
      "Downloaded enwiki-latest-pages-articles21.xml-p22722157p23927983.bz2...\n",
      "Downloading enwiki-latest-pages-articles22.xml-p23927984p25427983.bz2...\n",
      "Downloaded enwiki-latest-pages-articles22.xml-p23927984p25427983.bz2...\n",
      "Downloading enwiki-latest-pages-articles22.xml-p25427984p26823660.bz2...\n",
      "Downloaded enwiki-latest-pages-articles22.xml-p25427984p26823660.bz2...\n",
      "Downloading enwiki-latest-pages-articles23.xml-p26823661p28323660.bz2...\n",
      "Downloaded enwiki-latest-pages-articles23.xml-p26823661p28323660.bz2...\n",
      "Downloading enwiki-latest-pages-articles23.xml-p28323661p29823660.bz2...\n",
      "Downloaded enwiki-latest-pages-articles23.xml-p28323661p29823660.bz2...\n",
      "Downloading enwiki-latest-pages-articles23.xml-p29823661p30503450.bz2...\n",
      "Downloaded enwiki-latest-pages-articles23.xml-p29823661p30503450.bz2...\n",
      "Downloading enwiki-latest-pages-articles24.xml-p30503451p32003450.bz2...\n",
      "Downloaded enwiki-latest-pages-articles24.xml-p30503451p32003450.bz2...\n",
      "Downloading enwiki-latest-pages-articles24.xml-p32003451p33503450.bz2...\n",
      "Downloaded enwiki-latest-pages-articles24.xml-p32003451p33503450.bz2...\n",
      "Downloading enwiki-latest-pages-articles24.xml-p33503451p33952815.bz2...\n",
      "Downloaded enwiki-latest-pages-articles24.xml-p33503451p33952815.bz2...\n",
      "Downloading enwiki-latest-pages-articles25.xml-p33952816p35452815.bz2...\n",
      "Downloaded enwiki-latest-pages-articles25.xml-p33952816p35452815.bz2...\n",
      "Downloading enwiki-latest-pages-articles25.xml-p35452816p36952815.bz2...\n",
      "Downloaded enwiki-latest-pages-articles25.xml-p35452816p36952815.bz2...\n",
      "Downloading enwiki-latest-pages-articles25.xml-p36952816p38067202.bz2...\n",
      "Downloaded enwiki-latest-pages-articles25.xml-p36952816p38067202.bz2...\n",
      "Downloading enwiki-latest-pages-articles26.xml-p38067203p39567202.bz2...\n",
      "Downloaded enwiki-latest-pages-articles26.xml-p38067203p39567202.bz2...\n",
      "Downloading enwiki-latest-pages-articles26.xml-p39567203p41067202.bz2...\n",
      "Downloaded enwiki-latest-pages-articles26.xml-p39567203p41067202.bz2...\n",
      "Downloading enwiki-latest-pages-articles26.xml-p41067203p42567202.bz2...\n",
      "Downloaded enwiki-latest-pages-articles26.xml-p41067203p42567202.bz2...\n",
      "Downloading enwiki-latest-pages-articles26.xml-p42567203p42663461.bz2...\n",
      "Downloaded enwiki-latest-pages-articles26.xml-p42567203p42663461.bz2...\n",
      "Downloading enwiki-latest-pages-articles27.xml-p42663462p44163461.bz2...\n",
      "Downloaded enwiki-latest-pages-articles27.xml-p42663462p44163461.bz2...\n",
      "Downloading enwiki-latest-pages-articles27.xml-p44163462p45663461.bz2...\n",
      "Downloaded enwiki-latest-pages-articles27.xml-p44163462p45663461.bz2...\n",
      "Downloading enwiki-latest-pages-articles27.xml-p45663462p47163461.bz2...\n",
      "Downloaded enwiki-latest-pages-articles27.xml-p45663462p47163461.bz2...\n",
      "Downloading enwiki-latest-pages-articles27.xml-p47163462p48663461.bz2...\n",
      "Downloaded enwiki-latest-pages-articles27.xml-p47163462p48663461.bz2...\n",
      "Downloading enwiki-latest-pages-articles27.xml-p48663462p50163461.bz2...\n",
      "Downloaded enwiki-latest-pages-articles27.xml-p48663462p50163461.bz2...\n",
      "Downloading enwiki-latest-pages-articles27.xml-p50163462p51663461.bz2...\n",
      "Downloaded enwiki-latest-pages-articles27.xml-p50163462p51663461.bz2...\n",
      "Downloading enwiki-latest-pages-articles27.xml-p51663462p53163461.bz2...\n",
      "Downloaded enwiki-latest-pages-articles27.xml-p51663462p53163461.bz2...\n",
      "Downloading enwiki-latest-pages-articles27.xml-p53163462p54663461.bz2...\n",
      "Downloaded enwiki-latest-pages-articles27.xml-p53163462p54663461.bz2...\n",
      "Downloading enwiki-latest-pages-articles27.xml-p54663462p56163461.bz2...\n",
      "Downloaded enwiki-latest-pages-articles27.xml-p54663462p56163461.bz2...\n",
      "Downloading enwiki-latest-pages-articles27.xml-p56163462p57663461.bz2...\n",
      "Downloaded enwiki-latest-pages-articles27.xml-p56163462p57663461.bz2...\n",
      "Downloading enwiki-latest-pages-articles27.xml-p57663462p59163461.bz2...\n",
      "Downloaded enwiki-latest-pages-articles27.xml-p57663462p59163461.bz2...\n",
      "Downloading enwiki-latest-pages-articles27.xml-p59163462p60663461.bz2...\n",
      "Downloaded enwiki-latest-pages-articles27.xml-p59163462p60663461.bz2...\n",
      "Downloading enwiki-latest-pages-articles27.xml-p60663462p62163461.bz2...\n",
      "Downloaded enwiki-latest-pages-articles27.xml-p60663462p62163461.bz2...\n",
      "Downloading enwiki-latest-pages-articles27.xml-p62163462p63167876.bz2...\n",
      "Downloaded enwiki-latest-pages-articles27.xml-p62163462p63167876.bz2...\n",
      "Downloading enwiki-latest-pages-articles27.xml-p62163462p63260062.bz2...\n",
      "Downloaded enwiki-latest-pages-articles27.xml-p62163462p63260062.bz2...\n",
      "Downloading enwiki-latest-pages-articles3.xml-p88445p200509.bz2...\n",
      "Downloaded enwiki-latest-pages-articles3.xml-p88445p200509.bz2...\n",
      "Downloading enwiki-latest-pages-articles4.xml-p200510p352689.bz2...\n",
      "Downloaded enwiki-latest-pages-articles4.xml-p200510p352689.bz2...\n",
      "Downloading enwiki-latest-pages-articles5.xml-p352690p565313.bz2...\n",
      "Downloaded enwiki-latest-pages-articles5.xml-p352690p565313.bz2...\n",
      "Downloading enwiki-latest-pages-articles6.xml-p565314p892912.bz2...\n",
      "Downloaded enwiki-latest-pages-articles6.xml-p565314p892912.bz2...\n",
      "Downloading enwiki-latest-pages-articles7.xml-p892913p1268691.bz2...\n",
      "Downloaded enwiki-latest-pages-articles7.xml-p892913p1268691.bz2...\n",
      "Downloading enwiki-latest-pages-articles8.xml-p1268692p1791079.bz2...\n"
     ]
    },
    {
     "name": "stdout",
     "output_type": "stream",
     "text": [
      "Downloaded enwiki-latest-pages-articles8.xml-p1268692p1791079.bz2...\n",
      "Downloading enwiki-latest-pages-articles9.xml-p1791080p2336422.bz2...\n",
      "Downloaded enwiki-latest-pages-articles9.xml-p1791080p2336422.bz2...\n"
     ]
    }
   ],
   "source": [
    "for link in links_to_download:\n",
    "    print(f'Downloading {link}...')\n",
    "    r = requests.get(f'https://dumps.wikimedia.org/enwiki/latest/{link}', allow_redirects=True)\n",
    "    open(f'./partitioned-data/{link}', 'wb').write(r.content)\n",
    "    print(f'Downloaded {link}...')"
   ]
  },
  {
   "cell_type": "code",
   "execution_count": 78,
   "metadata": {},
   "outputs": [
    {
     "data": {
      "text/plain": [
       "59"
      ]
     },
     "execution_count": 78,
     "metadata": {},
     "output_type": "execute_result"
    }
   ],
   "source": [
    "len(links_to_download)"
   ]
  },
  {
   "cell_type": "code",
   "execution_count": null,
   "metadata": {},
   "outputs": [],
   "source": []
  }
 ],
 "metadata": {
  "kernelspec": {
   "display_name": "Python 3",
   "language": "python",
   "name": "python3"
  },
  "language_info": {
   "codemirror_mode": {
    "name": "ipython",
    "version": 3
   },
   "file_extension": ".py",
   "mimetype": "text/x-python",
   "name": "python",
   "nbconvert_exporter": "python",
   "pygments_lexer": "ipython3",
   "version": "3.7.4"
  }
 },
 "nbformat": 4,
 "nbformat_minor": 2
}
