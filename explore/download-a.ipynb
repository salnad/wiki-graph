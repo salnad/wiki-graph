{
 "cells": [
  {
   "cell_type": "markdown",
   "metadata": {},
   "source": [
    "## sources used to create this project:\n",
    " * https://towardsdatascience.com/wikipedia-data-science-working-with-the-worlds-largest-encyclopedia-c08efbac5f5c\n",
    " * http://cs229.stanford.edu/proj2015/309_report.pdf"
   ]
  },
  {
   "cell_type": "code",
   "execution_count": 1,
   "metadata": {},
   "outputs": [],
   "source": [
    "import requests\n",
    "\n",
    "# Parsing HTML\n",
    "from bs4 import BeautifulSoup\n",
    "\n",
    "# File system management\n",
    "import os"
   ]
  },
  {
   "cell_type": "code",
   "execution_count": 2,
   "metadata": {},
   "outputs": [
    {
     "data": {
      "text/plain": [
       "['../',\n",
       " '20191201/',\n",
       " '20191220/',\n",
       " '20200101/',\n",
       " '20200120/',\n",
       " '20200201/',\n",
       " '20200220/',\n",
       " '20200301/',\n",
       " 'latest/']"
      ]
     },
     "execution_count": 2,
     "metadata": {},
     "output_type": "execute_result"
    }
   ],
   "source": [
    "base_url = 'https://dumps.wikimedia.org/enwiki/'\n",
    "index = requests.get(base_url).text\n",
    "soup_index = BeautifulSoup(index, 'html.parser')\n",
    "\n",
    "# Find the links that are dates of dumps\n",
    "dumps = [a['href'] for a in soup_index.find_all('a') if \n",
    "         a.has_attr('href')]\n",
    "dumps"
   ]
  },
  {
   "cell_type": "code",
   "execution_count": 3,
   "metadata": {},
   "outputs": [
    {
     "data": {
      "text/plain": [
       "'<html>\\r\\n<h'"
      ]
     },
     "execution_count": 3,
     "metadata": {},
     "output_type": "execute_result"
    }
   ],
   "source": [
    "dump_url = base_url + 'latest/'\n",
    "\n",
    "# Retrieve the html\n",
    "dump_html = requests.get(dump_url).text\n",
    "dump_html[:10]"
   ]
  },
  {
   "cell_type": "code",
   "execution_count": 18,
   "metadata": {},
   "outputs": [],
   "source": [
    "# Convert to a soup\n",
    "soup_dump = BeautifulSoup(dump_html, 'html.parser')\n",
    "\n",
    "# Find li elements with the class file\n",
    "x_ans = [x['href'] for x in soup_dump.find_all('a', href = True)]\n",
    "links_to_download = []\n",
    "for x in x_ans:\n",
    "    if 'pages-articles' in x and 'multistream' not in x and x[-4:] == '.bz2':\n",
    "        links_to_download+= [x]"
   ]
  },
  {
   "cell_type": "code",
   "execution_count": 15,
   "metadata": {},
   "outputs": [],
   "source": [
    "import sys"
   ]
  },
  {
   "cell_type": "code",
   "execution_count": 30,
   "metadata": {},
   "outputs": [],
   "source": [
    "links_to_download[-5:]\n",
    "links_to_download.remove('enwiki-latest-pages-articles.xml.bz2')"
   ]
  },
  {
   "cell_type": "code",
   "execution_count": 31,
   "metadata": {},
   "outputs": [
    {
     "name": "stdout",
     "output_type": "stream",
     "text": [
      "Downloading enwiki-latest-pages-articles1.xml-p1p30303.bz2\n",
      "Finished Downloading enwiki-latest-pages-articles1.xml-p1p30303.bz2\n",
      "Downloading enwiki-latest-pages-articles10.xml-p2336423p3046512.bz2\n",
      "Finished Downloading enwiki-latest-pages-articles10.xml-p2336423p3046512.bz2\n",
      "Downloading enwiki-latest-pages-articles11.xml-p3046513p3926861.bz2\n",
      "Finished Downloading enwiki-latest-pages-articles11.xml-p3046513p3926861.bz2\n",
      "Downloading enwiki-latest-pages-articles12.xml-p3926862p5040436.bz2\n",
      "Finished Downloading enwiki-latest-pages-articles12.xml-p3926862p5040436.bz2\n",
      "Downloading enwiki-latest-pages-articles13.xml-p5040437p6197594.bz2\n",
      "Finished Downloading enwiki-latest-pages-articles13.xml-p5040437p6197594.bz2\n",
      "Downloading enwiki-latest-pages-articles14.xml-p6197595p7697594.bz2\n",
      "Finished Downloading enwiki-latest-pages-articles14.xml-p6197595p7697594.bz2\n",
      "Downloading enwiki-latest-pages-articles14.xml-p7697595p7744800.bz2\n",
      "Finished Downloading enwiki-latest-pages-articles14.xml-p7697595p7744800.bz2\n",
      "Downloading enwiki-latest-pages-articles15.xml-p7744801p9244800.bz2\n",
      "Finished Downloading enwiki-latest-pages-articles15.xml-p7744801p9244800.bz2\n",
      "Downloading enwiki-latest-pages-articles15.xml-p9244801p9518048.bz2\n",
      "Finished Downloading enwiki-latest-pages-articles15.xml-p9244801p9518048.bz2\n",
      "Downloading enwiki-latest-pages-articles16.xml-p11018049p11539266.bz2\n",
      "Finished Downloading enwiki-latest-pages-articles16.xml-p11018049p11539266.bz2\n",
      "Downloading enwiki-latest-pages-articles16.xml-p9518049p11018048.bz2\n",
      "Finished Downloading enwiki-latest-pages-articles16.xml-p9518049p11018048.bz2\n",
      "Downloading enwiki-latest-pages-articles17.xml-p11539267p13039266.bz2\n",
      "Finished Downloading enwiki-latest-pages-articles17.xml-p11539267p13039266.bz2\n",
      "Downloading enwiki-latest-pages-articles17.xml-p13039267p13693073.bz2\n",
      "Finished Downloading enwiki-latest-pages-articles17.xml-p13039267p13693073.bz2\n",
      "Downloading enwiki-latest-pages-articles18.xml-p13693074p15193073.bz2\n",
      "Finished Downloading enwiki-latest-pages-articles18.xml-p13693074p15193073.bz2\n",
      "Downloading enwiki-latest-pages-articles18.xml-p15193074p16120542.bz2\n",
      "Finished Downloading enwiki-latest-pages-articles18.xml-p15193074p16120542.bz2\n",
      "Downloading enwiki-latest-pages-articles19.xml-p16120543p17620542.bz2\n",
      "Finished Downloading enwiki-latest-pages-articles19.xml-p16120543p17620542.bz2\n",
      "Downloading enwiki-latest-pages-articles19.xml-p17620543p18754735.bz2\n",
      "Finished Downloading enwiki-latest-pages-articles19.xml-p17620543p18754735.bz2\n",
      "Downloading enwiki-latest-pages-articles2.xml-p30304p88444.bz2\n",
      "Finished Downloading enwiki-latest-pages-articles2.xml-p30304p88444.bz2\n",
      "Downloading enwiki-latest-pages-articles20.xml-p18754736p20254735.bz2\n",
      "Finished Downloading enwiki-latest-pages-articles20.xml-p18754736p20254735.bz2\n",
      "Downloading enwiki-latest-pages-articles20.xml-p20254736p21222156.bz2\n",
      "Finished Downloading enwiki-latest-pages-articles20.xml-p20254736p21222156.bz2\n",
      "Downloading enwiki-latest-pages-articles21.xml-p21222157p22722156.bz2\n",
      "Finished Downloading enwiki-latest-pages-articles21.xml-p21222157p22722156.bz2\n",
      "Downloading enwiki-latest-pages-articles21.xml-p22722157p23927983.bz2\n",
      "Finished Downloading enwiki-latest-pages-articles21.xml-p22722157p23927983.bz2\n",
      "Downloading enwiki-latest-pages-articles22.xml-p23927984p25427983.bz2\n",
      "Finished Downloading enwiki-latest-pages-articles22.xml-p23927984p25427983.bz2\n",
      "Downloading enwiki-latest-pages-articles22.xml-p25427984p26823660.bz2\n",
      "Finished Downloading enwiki-latest-pages-articles22.xml-p25427984p26823660.bz2\n",
      "Downloading enwiki-latest-pages-articles23.xml-p26823661p28323660.bz2\n",
      "Finished Downloading enwiki-latest-pages-articles23.xml-p26823661p28323660.bz2\n",
      "Downloading enwiki-latest-pages-articles23.xml-p28323661p29823660.bz2\n",
      "Finished Downloading enwiki-latest-pages-articles23.xml-p28323661p29823660.bz2\n",
      "Downloading enwiki-latest-pages-articles23.xml-p29823661p30503450.bz2\n",
      "Finished Downloading enwiki-latest-pages-articles23.xml-p29823661p30503450.bz2\n",
      "Downloading enwiki-latest-pages-articles24.xml-p30503451p32003450.bz2\n",
      "Finished Downloading enwiki-latest-pages-articles24.xml-p30503451p32003450.bz2\n",
      "Downloading enwiki-latest-pages-articles24.xml-p32003451p33503450.bz2\n",
      "Finished Downloading enwiki-latest-pages-articles24.xml-p32003451p33503450.bz2\n",
      "Downloading enwiki-latest-pages-articles24.xml-p33503451p33952815.bz2\n",
      "Finished Downloading enwiki-latest-pages-articles24.xml-p33503451p33952815.bz2\n",
      "Downloading enwiki-latest-pages-articles25.xml-p33952816p35452815.bz2\n",
      "Finished Downloading enwiki-latest-pages-articles25.xml-p33952816p35452815.bz2\n",
      "Downloading enwiki-latest-pages-articles25.xml-p35452816p36952815.bz2\n",
      "Finished Downloading enwiki-latest-pages-articles25.xml-p35452816p36952815.bz2\n",
      "Downloading enwiki-latest-pages-articles25.xml-p36952816p38067202.bz2\n",
      "Finished Downloading enwiki-latest-pages-articles25.xml-p36952816p38067202.bz2\n",
      "Downloading enwiki-latest-pages-articles26.xml-p38067203p39567202.bz2\n",
      "Finished Downloading enwiki-latest-pages-articles26.xml-p38067203p39567202.bz2\n",
      "Downloading enwiki-latest-pages-articles26.xml-p39567203p41067202.bz2\n",
      "Finished Downloading enwiki-latest-pages-articles26.xml-p39567203p41067202.bz2\n",
      "Downloading enwiki-latest-pages-articles26.xml-p41067203p42567202.bz2\n",
      "Finished Downloading enwiki-latest-pages-articles26.xml-p41067203p42567202.bz2\n",
      "Downloading enwiki-latest-pages-articles26.xml-p42567203p42663461.bz2\n",
      "Finished Downloading enwiki-latest-pages-articles26.xml-p42567203p42663461.bz2\n",
      "Downloading enwiki-latest-pages-articles27.xml-p42663462p44163461.bz2\n",
      "Finished Downloading enwiki-latest-pages-articles27.xml-p42663462p44163461.bz2\n",
      "Downloading enwiki-latest-pages-articles27.xml-p44163462p45663461.bz2\n",
      "Finished Downloading enwiki-latest-pages-articles27.xml-p44163462p45663461.bz2\n",
      "Downloading enwiki-latest-pages-articles27.xml-p45663462p47163461.bz2\n",
      "Finished Downloading enwiki-latest-pages-articles27.xml-p45663462p47163461.bz2\n",
      "Downloading enwiki-latest-pages-articles27.xml-p47163462p48663461.bz2\n",
      "Finished Downloading enwiki-latest-pages-articles27.xml-p47163462p48663461.bz2\n",
      "Downloading enwiki-latest-pages-articles27.xml-p48663462p50163461.bz2\n",
      "Finished Downloading enwiki-latest-pages-articles27.xml-p48663462p50163461.bz2\n",
      "Downloading enwiki-latest-pages-articles27.xml-p50163462p51663461.bz2\n",
      "Finished Downloading enwiki-latest-pages-articles27.xml-p50163462p51663461.bz2\n",
      "Downloading enwiki-latest-pages-articles27.xml-p51663462p53163461.bz2\n",
      "Finished Downloading enwiki-latest-pages-articles27.xml-p51663462p53163461.bz2\n",
      "Downloading enwiki-latest-pages-articles27.xml-p53163462p54663461.bz2\n",
      "Finished Downloading enwiki-latest-pages-articles27.xml-p53163462p54663461.bz2\n",
      "Downloading enwiki-latest-pages-articles27.xml-p54663462p56163461.bz2\n",
      "Finished Downloading enwiki-latest-pages-articles27.xml-p54663462p56163461.bz2\n",
      "Downloading enwiki-latest-pages-articles27.xml-p56163462p57663461.bz2\n",
      "Finished Downloading enwiki-latest-pages-articles27.xml-p56163462p57663461.bz2\n",
      "Downloading enwiki-latest-pages-articles27.xml-p57663462p59163461.bz2\n",
      "Finished Downloading enwiki-latest-pages-articles27.xml-p57663462p59163461.bz2\n",
      "Downloading enwiki-latest-pages-articles27.xml-p59163462p60663461.bz2\n",
      "Finished Downloading enwiki-latest-pages-articles27.xml-p59163462p60663461.bz2\n",
      "Downloading enwiki-latest-pages-articles27.xml-p60663462p62163461.bz2\n",
      "Finished Downloading enwiki-latest-pages-articles27.xml-p60663462p62163461.bz2\n",
      "Downloading enwiki-latest-pages-articles27.xml-p62163462p63167876.bz2\n",
      "Finished Downloading enwiki-latest-pages-articles27.xml-p62163462p63167876.bz2\n",
      "Downloading enwiki-latest-pages-articles27.xml-p62163462p63260062.bz2\n",
      "Finished Downloading enwiki-latest-pages-articles27.xml-p62163462p63260062.bz2\n",
      "Downloading enwiki-latest-pages-articles3.xml-p88445p200509.bz2\n",
      "Finished Downloading enwiki-latest-pages-articles3.xml-p88445p200509.bz2\n",
      "Downloading enwiki-latest-pages-articles4.xml-p200510p352689.bz2\n",
      "Finished Downloading enwiki-latest-pages-articles4.xml-p200510p352689.bz2\n",
      "Finished Downloading enwiki-latest-pages-articles5.xml-p352690p565313.bz2\n",
      "Downloading enwiki-latest-pages-articles6.xml-p565314p892912.bz2\n",
      "Finished Downloading enwiki-latest-pages-articles6.xml-p565314p892912.bz2\n",
      "Downloading enwiki-latest-pages-articles7.xml-p892913p1268691.bz2\n"
     ]
    },
    {
     "name": "stdout",
     "output_type": "stream",
     "text": [
      "Finished Downloading enwiki-latest-pages-articles7.xml-p892913p1268691.bz2\n",
      "Downloading enwiki-latest-pages-articles8.xml-p1268692p1791079.bz2\n",
      "Finished Downloading enwiki-latest-pages-articles8.xml-p1268692p1791079.bz2\n",
      "Downloading enwiki-latest-pages-articles9.xml-p1791080p2336422.bz2\n",
      "Finished Downloading enwiki-latest-pages-articles9.xml-p1791080p2336422.bz2\n"
     ]
    }
   ],
   "source": [
    "for file in links_to_download:\n",
    "    if not os.path.exists('./' + file):\n",
    "        print('Downloading ' + file)\n",
    "        r = requests.get(dump_url + file)\n",
    "        open('./' + file, \"wb\").write(r.content)\n",
    "    print('Finished Downloading ' + file)"
   ]
  },
  {
   "cell_type": "code",
   "execution_count": null,
   "metadata": {},
   "outputs": [],
   "source": []
  }
 ],
 "metadata": {
  "kernelspec": {
   "display_name": "Python 3",
   "language": "python",
   "name": "python3"
  },
  "language_info": {
   "codemirror_mode": {
    "name": "ipython",
    "version": 3
   },
   "file_extension": ".py",
   "mimetype": "text/x-python",
   "name": "python",
   "nbconvert_exporter": "python",
   "pygments_lexer": "ipython3",
   "version": "3.7.4"
  }
 },
 "nbformat": 4,
 "nbformat_minor": 2
}
