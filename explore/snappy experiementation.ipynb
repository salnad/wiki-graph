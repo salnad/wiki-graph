{
 "cells": [
  {
   "cell_type": "code",
   "execution_count": 13,
   "metadata": {},
   "outputs": [],
   "source": [
    "import networkx as nx\n",
    "import os\n",
    "import json"
   ]
  },
  {
   "cell_type": "code",
   "execution_count": 26,
   "metadata": {},
   "outputs": [],
   "source": [
    "G = nx.read_gpickle('./graph-saves/new-save.gpickle')"
   ]
  },
  {
   "cell_type": "code",
   "execution_count": 7,
   "metadata": {},
   "outputs": [
    {
     "name": "stdout",
     "output_type": "stream",
     "text": [
      "README.md                             \u001b[34mjson-data\u001b[m\u001b[m/\r\n",
      "Snap-5.0.zip                          multithreaded-process.ipynb\r\n",
      "download.ipynb                        \u001b[34mpartitioned-data\u001b[m\u001b[m/\r\n",
      "enwiki-latest-pages-articles.xml.bz2  snappy experiementation.ipynb\r\n",
      "explore.ipynb\r\n"
     ]
    }
   ],
   "source": [
    "ls"
   ]
  },
  {
   "cell_type": "code",
   "execution_count": 39,
   "metadata": {},
   "outputs": [
    {
     "name": "stdout",
     "output_type": "stream",
     "text": [
      "['./json-data/enwiki-latest-pages-articles15-p9244801p9518048.json', './json-data/enwiki-latest-pages-articles26-p42567203p42663461.json', './json-data/enwiki-latest-pages-articles15-p9244801p9518048.json', './json-data/enwiki-latest-pages-articles26-p42567203p42663461.json']\n"
     ]
    }
   ],
   "source": [
    "f = open('loaded.txt', 'r')\n",
    "fw = open('loaded.txt', 'a')\n",
    "downloaded = []\n",
    "for line in f.readlines():\n",
    "    downloaded.append(line[:-1])\n",
    "print(downloaded)\n",
    "\n",
    "l = []\n",
    "for x in os.listdir('json-data'):\n",
    "    if x[-4:] == 'json' and './json-data/' + x not in downloaded:\n",
    "        l += ['./json-data/'+ x]"
   ]
  },
  {
   "cell_type": "code",
   "execution_count": 41,
   "metadata": {},
   "outputs": [
    {
     "name": "stdout",
     "output_type": "stream",
     "text": [
      "Opened ./json-data/enwiki-latest-pages-articles24-p32003451p33503450.json...\n",
      "Finished loading data from ./json-data/enwiki-latest-pages-articles24-p32003451p33503450.json\n",
      "Opened ./json-data/enwiki-latest-pages-articles27-p54663462p56163461.json...\n",
      "Finished loading data from ./json-data/enwiki-latest-pages-articles27-p54663462p56163461.json\n"
     ]
    }
   ],
   "source": [
    "i = 0\n",
    "for e in l:\n",
    "    with open(e) as json_file:\n",
    "        data = json.load(json_file)\n",
    "        print(f'Opened {e}...')\n",
    "        for item in data:\n",
    "            for dest in data[item]:\n",
    "                G.add_edge(item, dest)\n",
    "            # print(f'Added edges for {item}')\n",
    "        nx.write_gpickle(G, f\"./graph-saves/new-save.gpickle\")\n",
    "        fw.write(e + '\\n')\n",
    "        print(f'Finished loading data from {e}')\n",
    "        if i == 1:\n",
    "            break\n",
    "        i += 1"
   ]
  },
  {
   "cell_type": "code",
   "execution_count": 40,
   "metadata": {},
   "outputs": [
    {
     "data": {
      "text/plain": [
       "['./json-data/enwiki-latest-pages-articles24-p32003451p33503450.json',\n",
       " './json-data/enwiki-latest-pages-articles27-p54663462p56163461.json',\n",
       " './json-data/enwiki-latest-pages-articles26-p38067203p39567202.json',\n",
       " './json-data/enwiki-latest-pages-articles24-p30503451p32003450.json',\n",
       " './json-data/enwiki-latest-pages-articles27-p51663462p53163461.json',\n",
       " './json-data/enwiki-latest-pages-articles27-p62163462p63260062.json',\n",
       " './json-data/enwiki-latest-pages-articles21-p22722157p23927983.json',\n",
       " './json-data/enwiki-latest-pages-articles27-p59163462p60663461.json',\n",
       " './json-data/enwiki-latest-pages-articles23-p29823661p30503450.json',\n",
       " './json-data/enwiki-latest-pages-articles5-p352690p565313.json',\n",
       " './json-data/enwiki-latest-pages-articles27-p60663462p62163461.json',\n",
       " './json-data/enwiki-latest-pages-articles23-p26823661p28323660.json',\n",
       " './json-data/enwiki-latest-pages-articles20-p20254736p21222156.json',\n",
       " './json-data/enwiki-latest-pages-articles20-p18754736p20254735.json',\n",
       " './json-data/enwiki-latest-pages-articles2-p30304p88444.json',\n",
       " './json-data/enwiki-latest-pages-articles1-p1p30303.json',\n",
       " './json-data/enwiki-latest-pages-articles27-p45663462p47163461.json',\n",
       " './json-data/enwiki-latest-pages-articles27-p57663462p59163461.json',\n",
       " './json-data/enwiki-latest-pages-articles27-p56163462p57663461.json',\n",
       " './json-data/enwiki-latest-pages-articles17-p11539267p13039266.json',\n",
       " './json-data/enwiki-latest-pages-articles22-p25427984p26823660.json',\n",
       " './json-data/enwiki-latest-pages-articles4-p200510p352689.json',\n",
       " './json-data/enwiki-latest-pages-articles26-p39567203p41067202.json',\n",
       " './json-data/enwiki-latest-pages-articles24-p33503451p33952815.json',\n",
       " './json-data/enwiki-latest-pages-articles7-p892913p1268691.json',\n",
       " './json-data/enwiki-latest-pages-articles19-p16120543p17620542.json',\n",
       " './json-data/enwiki-latest-pages-articles18-p13693074p15193073.json',\n",
       " './json-data/enwiki-latest-pages-articles25-p33952816p35452815.json',\n",
       " './json-data/enwiki-latest-pages-articles19-p17620543p18754735.json',\n",
       " './json-data/enwiki-latest-pages-articles27-p53163462p54663461.json',\n",
       " './json-data/enwiki-latest-pages-articles27-p42663462p44163461.json',\n",
       " './json-data/enwiki-latest-pages-articles21-p21222157p22722156.json',\n",
       " './json-data/enwiki-latest-pages-articles15-p7744801p9244800.json',\n",
       " './json-data/enwiki-latest-pages-articles13-p5040437p6197594.json',\n",
       " './json-data/enwiki-latest-pages-articles22-p23927984p25427983.json',\n",
       " './json-data/enwiki-latest-pages-articles9-p1791080p2336422.json',\n",
       " './json-data/enwiki-latest-pages-articles27-p50163462p51663461.json',\n",
       " './json-data/enwiki-latest-pages-articles14-p6197595p7697594.json',\n",
       " './json-data/enwiki-latest-pages-articles17-p13039267p13693073.json',\n",
       " './json-data/enwiki-latest-pages-articles23-p28323661p29823660.json',\n",
       " './json-data/enwiki-latest-pages-articles3-p88445p200509.json',\n",
       " './json-data/enwiki-latest-pages-articles25-p35452816p36952815.json',\n",
       " './json-data/enwiki-latest-pages-articles25-p36952816p38067202.json',\n",
       " './json-data/enwiki-latest-pages-articles16-p11018049p11539266.json',\n",
       " './json-data/enwiki-latest-pages-articles10-p2336423p3046512.json',\n",
       " './json-data/enwiki-latest-pages-articles8-p1268692p1791079.json',\n",
       " './json-data/enwiki-latest-pages-articles12-p3926862p5040436.json',\n",
       " './json-data/enwiki-latest-pages-articles16-p9518049p11018048.json',\n",
       " './json-data/enwiki-latest-pages-articles26-p41067203p42567202.json',\n",
       " './json-data/enwiki-latest-pages-articles11-p3046513p3926861.json',\n",
       " './json-data/enwiki-latest-pages-articles27-p62163462p63167876.json',\n",
       " './json-data/enwiki-latest-pages-articles6-p565314p892912.json',\n",
       " './json-data/enwiki-latest-pages-articles27-p48663462p50163461.json',\n",
       " './json-data/enwiki-latest-pages-articles27-p47163462p48663461.json',\n",
       " './json-data/enwiki-latest-pages-articles14-p7697595p7744800.json',\n",
       " './json-data/enwiki-latest-pages-articles27-p44163462p45663461.json',\n",
       " './json-data/enwiki-latest-pages-articles18-p15193074p16120542.json']"
      ]
     },
     "execution_count": 40,
     "metadata": {},
     "output_type": "execute_result"
    }
   ],
   "source": [
    "l"
   ]
  },
  {
   "cell_type": "code",
   "execution_count": null,
   "metadata": {},
   "outputs": [],
   "source": []
  }
 ],
 "metadata": {
  "kernelspec": {
   "display_name": "Python 3",
   "language": "python",
   "name": "python3"
  },
  "language_info": {
   "codemirror_mode": {
    "name": "ipython",
    "version": 3
   },
   "file_extension": ".py",
   "mimetype": "text/x-python",
   "name": "python",
   "nbconvert_exporter": "python",
   "pygments_lexer": "ipython3",
   "version": "3.7.4"
  }
 },
 "nbformat": 4,
 "nbformat_minor": 2
}
