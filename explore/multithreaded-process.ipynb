{
 "cells": [
  {
   "cell_type": "code",
   "execution_count": 1,
   "metadata": {},
   "outputs": [],
   "source": [
    "import bz2\n",
    "import subprocess\n",
    "import xml.sax\n",
    "import mwparserfromhell\n",
    "import networkx as nx\n",
    "import matplotlib.pyplot as plt\n",
    "import gc\n",
    "import json\n",
    "import os\n",
    "from functools import partial\n",
    "from multiprocessing import Pool \n",
    "import tqdm \n",
    "from timeit import default_timer as timer"
   ]
  },
  {
   "cell_type": "code",
   "execution_count": 2,
   "metadata": {},
   "outputs": [],
   "source": [
    "class WikiXmlHandler(xml.sax.handler.ContentHandler):\n",
    "    \"\"\"Content handler for Wiki XML data using SAX\"\"\"\n",
    "    def __init__(self):\n",
    "        xml.sax.handler.ContentHandler.__init__(self)\n",
    "        self._buffer = None\n",
    "        self._values = {}\n",
    "        self._current_tag = None\n",
    "        self._pages = []\n",
    "\n",
    "    def characters(self, content):\n",
    "        \"\"\"Characters between opening and closing tags\"\"\"\n",
    "        if self._current_tag:\n",
    "            self._buffer.append(content)\n",
    "\n",
    "    def startElement(self, name, attrs):\n",
    "        \"\"\"Opening tag of element\"\"\"\n",
    "        if name in ('title', 'text'):\n",
    "            self._current_tag = name\n",
    "            self._buffer = []\n",
    "\n",
    "    def endElement(self, name):\n",
    "        \"\"\"Closing tag of element\"\"\"\n",
    "        if name == self._current_tag:\n",
    "            self._values[name] = ' '.join(self._buffer)\n",
    "\n",
    "        if name == 'page':\n",
    "            self._pages.append((self._values['title'], self._values['text']))"
   ]
  },
  {
   "cell_type": "code",
   "execution_count": 3,
   "metadata": {},
   "outputs": [],
   "source": [
    "def find_links(data_path, save = True):\n",
    "    handler = WikiXmlHandler()\n",
    "    parser = xml.sax.make_parser()\n",
    "    parser.setContentHandler(handler)\n",
    "\n",
    "    for i, line in enumerate(subprocess.Popen(['bzcat'], \n",
    "                             stdin = open(f'./partitioned-data/{data_path}'), \n",
    "                             stdout = subprocess.PIPE).stdout):\n",
    "        try:\n",
    "            parser.feed(line)\n",
    "        except StopIteration:\n",
    "            break\n",
    "    \n",
    "    if save:\n",
    "        new_data_path = data_path[0:data_path.find('xml')-1] + '-' + data_path[data_path.find('xml') + 4:-4]\n",
    "        m = {}\n",
    "        for page in handler._pages:\n",
    "            wikipage = mwparserfromhell.parse(page[1])\n",
    "            wikilinks = [str(x.title) for x in wikipage.filter_wikilinks()]\n",
    "            m[page[0]] = wikilinks\n",
    "            \n",
    "        with open(f'./json-data/{new_data_path}.json', 'w') as fout:\n",
    "            fout.write(json.dumps(m))\n",
    "\n",
    "        partition_dir = './json-data'\n",
    "        print(f'{ len(os.listdir(partition_dir)) } files processed.', end = '\\r')\n",
    "\n",
    "    # Memory management\n",
    "    del handler\n",
    "    del parser\n",
    "    gc.collect()\n",
    "    return None"
   ]
  },
  {
   "cell_type": "code",
   "execution_count": 30,
   "metadata": {},
   "outputs": [],
   "source": [
    "# partitions = os.listdir('./partitioned-data')\n",
    "# partitions.remove('.DS_Store')\n",
    "partitions = ['enwiki-latest-pages-articles16.xml-p11018049p11539266.bz2',\n",
    " 'enwiki-latest-pages-articles18.xml-p15193074p16120542.bz2',\n",
    " 'enwiki-latest-pages-articles3.xml-p88445p200509.bz2',\n",
    " 'enwiki-latest-pages-articles23.xml-p28323661p29823660.bz2',\n",
    " 'enwiki-latest-pages-articles19.xml-p16120543p17620542.bz2',\n",
    " 'enwiki-latest-pages-articles21.xml-p22722157p23927983.bz2',\n",
    " 'enwiki-latest-pages-articles27.xml-p57663462p59163461.bz2',\n",
    " 'enwiki-latest-pages-articles27.xml-p47163462p48663461.bz2',\n",
    " 'enwiki-latest-pages-articles22.xml-p25427984p26823660.bz2',\n",
    " 'enwiki-latest-pages-articles27.xml-p50163462p51663461.bz2',\n",
    " 'enwiki-latest-pages-articles27.xml-p53163462p54663461.bz2',\n",
    " 'enwiki-latest-pages-articles27.xml-p56163462p57663461.bz2',\n",
    " 'enwiki-latest-pages-articles26.xml-p39567203p41067202.bz2',\n",
    " 'enwiki-latest-pages-articles21.xml-p21222157p22722156.bz2',\n",
    " 'enwiki-latest-pages-articles7.xml-p892913p1268691.bz2',\n",
    " 'enwiki-latest-pages-articles26.xml-p38067203p39567202.bz2',\n",
    " 'enwiki-latest-pages-articles18.xml-p13693074p15193073.bz2',\n",
    " 'enwiki-latest-pages-articles9.xml-p1791080p2336422.bz2',\n",
    " 'enwiki-latest-pages-articles8.xml-p1268692p1791079.bz2',\n",
    " 'enwiki-latest-pages-articles10.xml-p2336423p3046512.bz2',\n",
    " 'enwiki-latest-pages-articles15.xml-p7744801p9244800.bz2',\n",
    " 'enwiki-latest-pages-articles13.xml-p5040437p6197594.bz2',\n",
    " 'enwiki-latest-pages-articles12.xml-p3926862p5040436.bz2',\n",
    " 'enwiki-latest-pages-articles4.xml-p200510p352689.bz2']\n",
    "npartitions = []\n",
    "for data_path in partitions:\n",
    "    if data_path[0:data_path.find('xml')-1] + '-' + data_path[data_path.find('xml') + 4:-4] + '.json' in os.listdir('./json-data'):\n",
    "        partitions.remove(data_path)\n",
    "    else:\n",
    "        npartitions += [data_path]\n",
    "\n",
    "partitions = npartitions\n",
    "# print(len(partitions))\n",
    "# partitions = partitions[0:8]"
   ]
  },
  {
   "cell_type": "code",
   "execution_count": 32,
   "metadata": {},
   "outputs": [
    {
     "output_type": "stream",
     "name": "stdout",
     "text": "40 files processed.34 files processed.35 files processed.36 files processed.37 files processed.39 files processed.38 files processed.4436.835368284 seconds elapsed.\n"
    }
   ],
   "source": [
    "# Create a pool of workers to execute processes\n",
    "pool = Pool(processes = 8)\n",
    "\n",
    "start = timer()\n",
    "\n",
    "# Map (service, tasks), applies function to each partition\n",
    "results = pool.map(find_links, partitions)\n",
    "\n",
    "pool.close()\n",
    "pool.join()\n",
    "\n",
    "end = timer()\n",
    "print(f'{end - start} seconds elapsed.')"
   ]
  },
  {
   "cell_type": "code",
   "execution_count": null,
   "metadata": {},
   "outputs": [],
   "source": [
    "# start = timer()\n",
    "# pool = Pool(processes = 8)\n",
    "# results = []\n",
    "\n",
    "# # Run partitions in parallel\n",
    "# for x in tqdm.tqdm_notebook(pool.imap_unordered(find_links, partitions), total = len(partitions)):\n",
    "#     results.append(x)\n",
    "    \n",
    "# pool.close()\n",
    "# pool.join()\n",
    "\n",
    "# end = timer()\n",
    "# print(f'{end - start} seconds elapsed.')"
   ]
  },
  {
   "cell_type": "code",
   "execution_count": 34,
   "metadata": {},
   "outputs": [
    {
     "output_type": "execute_result",
     "data": {
      "text/plain": "{'.DS_Sto-_S.json',\n 'enwiki-latest-pages-articles11-p3046513p3926861.json',\n 'enwiki-latest-pages-articles14-p6197595p7697594.json',\n 'enwiki-latest-pages-articles16-p9518049p11018048.json',\n 'enwiki-latest-pages-articles17-p11539267p13039266.json',\n 'enwiki-latest-pages-articles22-p23927984p25427983.json',\n 'enwiki-latest-pages-articles23-p26823661p28323660.json',\n 'enwiki-latest-pages-articles24-p30503451p32003450.json',\n 'enwiki-latest-pages-articles24-p32003451p33503450.json',\n 'enwiki-latest-pages-articles25-p33952816p35452815.json',\n 'enwiki-latest-pages-articles25-p35452816p36952815.json',\n 'enwiki-latest-pages-articles26-p41067203p42567202.json',\n 'enwiki-latest-pages-articles27-p42663462p44163461.json',\n 'enwiki-latest-pages-articles27-p44163462p45663461.json',\n 'enwiki-latest-pages-articles27-p48663462p50163461.json',\n 'enwiki-latest-pages-articles27-p51663462p53163461.json',\n 'enwiki-latest-pages-articles27-p54663462p56163461.json',\n 'enwiki-latest-pages-articles27-p59163462p60663461.json',\n 'enwiki-latest-pages-articles27-p60663462p62163461.json',\n 'enwiki-latest-pages-articles27-p62163462p63260062.json',\n 'enwiki-latest-pages-articles5-p352690p565313.json',\n 'enwiki-latest-pages-articles6-p565314p892912.json'}"
     },
     "metadata": {},
     "execution_count": 34
    }
   ],
   "source": [
    "set([data_path[0:data_path.find('xml')-1] + '-' + data_path[data_path.find('xml') + 4:-4] + '.json' for data_path in os.listdir('./partitioned-data/')]) - set(os.listdir('./json-data'))"
   ]
  },
  {
   "cell_type": "code",
   "execution_count": 35,
   "metadata": {},
   "outputs": [
    {
     "output_type": "stream",
     "name": "stdout",
     "text": "40 files processed."
    }
   ],
   "source": [
    "find_links('enwiki-latest-pages-articles4.xml-p200510p352689.bz2')"
   ]
  },
  {
   "cell_type": "code",
   "execution_count": null,
   "metadata": {},
   "outputs": [],
   "source": []
  }
 ],
 "metadata": {
  "kernelspec": {
   "display_name": "Python 3",
   "language": "python",
   "name": "python3"
  }
 },
 "nbformat": 4,
 "nbformat_minor": 2
}